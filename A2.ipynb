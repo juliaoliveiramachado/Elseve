{
  "cells": [
    {
      "cell_type": "markdown",
      "metadata": {
        "id": "view-in-github",
        "colab_type": "text"
      },
      "source": [
        "<a href=\"https://colab.research.google.com/github/juliaoliveiramachado/Elseve/blob/main/A2.ipynb\" target=\"_parent\"><img src=\"https://colab.research.google.com/assets/colab-badge.svg\" alt=\"Open In Colab\"/></a>"
      ]
    },
    {
      "cell_type": "code",
      "execution_count": null,
      "metadata": {
        "colab": {
          "base_uri": "https://localhost:8080/"
        },
        "id": "s_OUAauHFD1S",
        "outputId": "cc8955df-8acc-4354-ac8b-2f59c098db90"
      },
      "outputs": [
        {
          "output_type": "stream",
          "name": "stdout",
          "text": [
            "Bem-vindo(a) ao teste de tipo de cabelo!\n",
            "Seu cabelo tem caspa? (1 - SIM, 2 - NÃO):2\n",
            "Você quer usar antes da escova? (1 - sim, 2 - não): 2\n",
            "Seu cabelo tem química? (1 - sim, 2 - não): 1\n",
            "Ele é pintado? (1 - sim, 2 - não): 2\n",
            "https://www.loreal-paris.com.br/cuidados-com-o-cabelo/elseve/reparacao-total-5-pos-quimica\n",
            "https://www.loreal-paris.com.br/-/media/project/loreal/brand-sites/oap/americas/br/products/hair/hair-care/elseve/tr5-pos-quimica/posquimicacatalogo.jpg\n"
          ]
        }
      ],
      "source": [
        "diretorio = {\n",
        "    \"LINHA HIDRA DETOX CASPA\": \n",
        "       {'link': 'https://www.loreal-paris.com.br/cuidados-com-o-cabelo/elseve/hydra-detox-anti-caspa', 'imagem': 'https://encrypted-tbn0.gstatic.com/images?q=tbn:ANd9GcRgbc0HxB_VgYrmBI5hgM4u-_byijruGtLfiQ&usqp=CAU'},\n",
        "    \"LINHA QUERALISO\":\n",
        "       {'link': 'https://www.loreal-paris.com.br/cuidados-com-o-cabelo/elseve/quera-liso-mq-230-c', 'imagem': 'https://encrypted-tbn0.gstatic.com/images?q=tbn:ANd9GcRjn4yBejAqDr2hBktSeCbtXtXCKGqKRbK6fA&usqp=CAU'}, \n",
        "     \"LINHA COLORVIVE\":\n",
        "       {'link': 'https://www.loreal-paris.com.br/cuidados-com-o-cabelo/elseve/colorvive', 'imagem': 'https://www.loreal-paris.com.br/-/media/project/loreal/brand-sites/oap/americas/br/products/hair/hair-care/elseve/colorvive/color-vive-c-atalogo.jpg'},    \n",
        "     \"LINHA REPARAÇÃO TOTAL PÓS QUÍMICA\":\n",
        "       {'link': 'https://www.loreal-paris.com.br/cuidados-com-o-cabelo/elseve/reparacao-total-5-pos-quimica', 'imagem': 'https://www.loreal-paris.com.br/-/media/project/loreal/brand-sites/oap/americas/br/products/hair/hair-care/elseve/tr5-pos-quimica/posquimicacatalogo.jpg'},\n",
        "     \"LINHA SUPREME CONTROL\":\n",
        "       {'link': 'https://www.loreal-paris.com.br/cuidados-com-o-cabelo/elseve/supreme-control-4d', 'imagem': 'https://www.loreal-paris.com.br/-/media/project/loreal/brand-sites/oap/americas/br/products/hair/hair-care/elseve/supreme-control-4d/catalogo-supreme.jpg'},\n",
        "     \"LINHA ARGININA\":\n",
        "       {'link': 'https://www.loreal-paris.com.br/cuidados-com-o-cabelo/elseve/arginina-resist', 'imagem': 'https://4.bp.blogspot.com/-o734azKE_Fs/T4iCfauqMuI/AAAAAAAABAE/VZPWdk_PJY8/s1600/arginina1.jpg'},\n",
        "      \"LINHA REPARAÇÃO TOTAL 5 PROFUNDA\":\n",
        "       {'link': \"https://www.loreal-paris.com.br/cuidados-com-o-cabelo/elseve/reparacao-total-5-extra-profundo\", 'imagem': \"https://i.ytimg.com/vi/LIfN-2Qp_gc/maxresdefault.jpg\"},\n",
        "      \"LINHA REPARAÇÃO TOTAL 5\":\n",
        "       {'link': \"https://www.loreal-paris.com.br/cuidados-com-o-cabelo/elseve/reparacao-total-5-extra-profundo\", 'imagem': 'https://www.loreal-paris.com.br/-/media/project/loreal/brand-sites/oap/americas/br/products/hair/hair-care/elseve/tr5/rt5.jpg'},\n",
        "      \"LINHA HIALURONICO\":\n",
        "       {'link': 'https://www.loreal-paris.com.br/cuidados-com-o-cabelo/elseve/pure-hialuronico', 'imagem': \"https://epocacosmeticos.vteximg.com.br/arquivos/ids/532886-500-500/loreal-paris-elseve-pure-hialuronico-shampoo--5-.jpg?v=638104421191000000\"},\n",
        "      \"LINHA DETOX\":\n",
        "       {'link': 'https://www.loreal-paris.com.br/cuidados-com-o-cabelo/elseve/hydra-detox', 'imagem': 'https://www.loreal-paris.com.br/-/media/project/loreal/brand-sites/oap/americas/br/products/hair/hair-care/elseve/hydra-detox/hydradetox-48hr-catalogo2.jpg'},\n",
        "      \"LINHA OELO EXTRAORDINARIO\":\n",
        "       {'link': 'https://www.loreal-paris.com.br/cuidados-com-o-cabelo/elseve/oleo-extraordinario', 'imagem': 'https://www.loreal-paris.com.br/-/media/project/loreal/brand-sites/oap/americas/br/products/hair/hair-care/elseve/extraordinary-oil/nutricaocatalogo.jpg'},\n",
        "      'LINHA OLEO EXTRAORDINARIO CACHOS':\n",
        "       {'link': 'https://www.loreal-paris.com.br/cuidados-com-o-cabelo/elseve/oleo-extraordinario-cachos', 'imagem': 'https://www.loreal-paris.com.br/-/media/project/loreal/brand-sites/oap/americas/br/products/hair/hair-care/elseve/extraordinary-oil/oleo-extraordinario-cachos2.jpg'},\n",
        "      'LINHA LISO DOS SONHOS':\n",
        "       {'link': 'https://www.loreal-paris.com.br/cuidados-com-o-cabelo/elseve/liso-dos-sonhos', 'imagem': 'https://encrypted-tbn0.gstatic.com/images?q=tbn:ANd9GcRXgAGoCTyEyYvkyXwTHNds5hBGc9BGSTQJRw&usqp=CAU'},\n",
        "      'LINHA LONGO DOS SONHOS':\n",
        "       {'link': 'https://www.loreal-paris.com.br/cuidados-com-o-cabelo/elseve/liso-dos-sonhos', 'imagem': 'https://encrypted-tbn0.gstatic.com/images?q=tbn:ANd9GcRAl08gjdDyFzgbu6-lwMocIQ4TVRGmTOYM5zexa1mtDiJIT9W_mQ88rCF-c3n_tMKr2Oc&usqp=CAU'},\n",
        "      'LINHA CACHOS DOS SONHOS':\n",
        "      {'link': 'https://www.loreal-paris.com.br/cuidados-com-o-cabelo/elseve/cachos-longos-dos-sonhos', 'imagem': 'https://encrypted-tbn0.gstatic.com/images?q=tbn:ANd9GcS287TsHFN6F5LST1G01JDkibCmO46fa50kNA&usqp=CAU'}\n",
        "}\n",
        "\n",
        "print(\"Bem-vindo(a) ao teste de tipo de cabelo!\")\n",
        "\n",
        "resposta = input(\"Seu cabelo tem caspa? (1 - SIM, 2 - NÃO):\")\n",
        "if resposta == \"1\":\n",
        "   print(diretorio[\"LINHA HIDRA DETOX CASPA\"]['link'])\n",
        "   print(diretorio[\"LINHA HIDRA DETOX CASPA\"]['imagem'])\n",
        "\n",
        "elif resposta == \"2\":\n",
        "    resposta_adicional1 = input(\"Você quer usar antes da escova? (1 - sim, 2 - não): \")\n",
        "    if resposta_adicional1 == \"1\": \n",
        "       print(diretorio[\"LINHA QUERALISO\"]['link'])\n",
        "       print(diretorio[\"LINHA QUERALISO\"]['imagem'])\n",
        "    elif resposta_adicional1 == \"2\":\n",
        "         resposta_adicional2 = input(\"Seu cabelo tem química? (1 - sim, 2 - não): \")\n",
        "         if resposta_adicional2 == \"1\": \n",
        "            resposta_adicional3 = input(\"Ele é pintado? (1 - sim, 2 - não): \")\n",
        "            if resposta_adicional3 == \"1\":\n",
        "               print(diretorio[\"LINHA COLORVIVE\"]['link'])\n",
        "               print(diretorio[\"LINHA COLORVIVE\"]['imagem'])\n",
        "            elif resposta_adicional3 == \"2\":\n",
        "               print(diretorio['LINHA REPARAÇÃO TOTAL PÓS QUÍMICA']['link'])\n",
        "               print(diretorio[\"LINHA REPARAÇÃO TOTAL PÓS QUÍMICA\"]['imagem'])\n",
        "         elif resposta_adicional2 == \"2\":\n",
        "               resposta_adicional4 = input(\"Seu cabelo tem frizz? (1 - sim, 2 - não)\")\n",
        "               if resposta_adicional4 == \"1\":\n",
        "                  print(diretorio['LINHA SUPREME CONTROL']['link'])\n",
        "                  print(diretorio['LINHA SUPREME CONTROL']['imagem'])\n",
        "               elif resposta_adicional4 == \"2\":\n",
        "                    resposta_adicional5 = input(\"Ele tem queda? (1 - sim, 2 - não): \")\n",
        "                    if resposta_adicional5 == \"1\":\n",
        "                       print(diretorio['LINHA ARGININA']['link'])\n",
        "                       print(diretorio['LINHA ARGININA']['imagem'])\n",
        "                    elif resposta_adicional5 == \"2\":\n",
        "                           resposta_adicional6 = input(\"Ele está muito danificado? (1 - sim, 2 - não): \")\n",
        "                           if resposta_adicional6 == '1':\n",
        "                              resposta_adicional7 = input(\"Ele está muito ou pouco danificado? (1 - muito, 2 - pouco): \")\n",
        "                              if resposta_adicional7 == '1':\n",
        "                                 print(diretorio['LINHA REPARAÇÃO TOTAL 5 PROFUNDA']['link'])\n",
        "                                 print(diretorio['LINHA REPARAÇÃO TOTAL 5 PROFUNDA']['imagem'])\n",
        "                              elif resposta_adicional7 == '2':\n",
        "                                 print(diretorio['LINHA REPARAÇÃO TOTAL 5']['link'])\n",
        "                                 print(diretorio['LINHA REPARAÇÃO TOTAL 5']['imagem'])\n",
        "                           elif resposta_adicional6 == '2':\n",
        "                                resposta_adicional8 = input('Ele está desidratado? (1 - sim, 2 - não): ')\n",
        "                                if resposta_adicional8 == '1':\n",
        "                                   resposta_adicional9 = input('Muito? (1 - sim, 2 - não): ')\n",
        "                                   if resposta_adicional9 == '1':\n",
        "                                      print(diretorio['LINHA HIALURONICO']['link'])\n",
        "                                      print(diretorio['LINHA HIALURONICO']['imagem'])\n",
        "                                   elif resposta_adicional9 == '2':\n",
        "                                      resposta_adicional10 = input('Qual seu tipo de cabelo: 1 - oleoso, 2 - misto, 3 - seco:')\n",
        "                                      if resposta_adicional10 == '1':\n",
        "                                         print(diretorio['LINHA PURE HIALURONICO']['link'])\n",
        "                                         print(diretorio['LINHA PURE HIALURONICO']['imagem'])\n",
        "                                      elif resposta_adicional10 == '2':\n",
        "                                         print(diretorio['LINHA DETOX']['link'])\n",
        "                                         print(diretorio['LINHA DETOX']['imagem'])\n",
        "                                      elif resposta_adicional10 == '3':\n",
        "                                         resposta_adicional11 = input('Textura do cabelo? 1 - liso, 2 - cacheado: ')\n",
        "                                         if resposta_adicional11 == \"1\":\n",
        "                                             print(diretorio['LINHA OLEO EXTRAORDINARIO']['link'])\n",
        "                                             print(diretorio['LINHA OLEO EXTRAORDINARIO']['imagem'])\n",
        "                                         elif resposta_adicional11 == \"2\":\n",
        "                                            print(diretorio['LINHA OLEO EXTRAORDINARIO CACHOS']['link'])\n",
        "                                            print(diretorio['LINHA OLEO EXTRAORDINARIO CACHOS']['imagem'])\n",
        "                                elif resposta_adicional8 == \"2\":\n",
        "                                     resposta_adicional11 = input('Qual é seu tipo de cabelo? 1 - liso, 2 - cacheado?')\n",
        "                                     if resposta_adicional11 == \"1\":\n",
        "                                          resposta_adicional12 = input(\"Quer mais liso? 1, quer mais longo? 2\")     \n",
        "                                          if resposta_adicional12 == \"1\":\n",
        "                                            print(diretorio['LINHA LISO DOS SONHOS']['link'])\n",
        "                                            print(diretorio['LINHA LISO DOS SONHOS']['imagem'])\n",
        "                                          elif resposta_adicional12 == '2':\n",
        "                                               print(diretorio['LINHA LONGO DOS SONHOS']['link'])\n",
        "                                               print(diretorio['LINHA LONGO DOS SONHOS']['imagem'])\n",
        "                                     elif resposta_adicional11 == \"2\":\n",
        "                                          print(diretorio['LINHA CACHOS DOS SONHOS']['link'])\n",
        "                                          print(diretorio['LINHA CACHOS DOS SONHOS']['imagem'])"
      ]
    }
  ],
  "metadata": {
    "colab": {
      "provenance": [],
      "authorship_tag": "ABX9TyPZf39CuYweJYZ7wRnJYcnz",
      "include_colab_link": true
    },
    "kernelspec": {
      "display_name": "Python 3",
      "name": "python3"
    },
    "language_info": {
      "name": "python"
    }
  },
  "nbformat": 4,
  "nbformat_minor": 0
}